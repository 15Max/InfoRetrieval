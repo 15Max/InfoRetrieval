{
 "cells": [
  {
   "cell_type": "markdown",
   "id": "d41c4801",
   "metadata": {},
   "source": [
    "# TITLE EMBEDDINGS AND SIMILARITY SCORE"
   ]
  },
  {
   "cell_type": "markdown",
   "id": "dbcd7174",
   "metadata": {},
   "source": [
    "This notebook runs the model to calculate the embeddings of all the titles from the wiki_pagerank dataset. Run this before starting the gugol_main server and the interface. "
   ]
  },
  {
   "cell_type": "markdown",
   "id": "7c489387",
   "metadata": {},
   "source": [
    "First let's load all the necessary libraries"
   ]
  },
  {
   "cell_type": "code",
   "execution_count": 1,
   "id": "51bb0006",
   "metadata": {},
   "outputs": [
    {
     "name": "stderr",
     "output_type": "stream",
     "text": [
      "/home/lucapernice/miniconda3/envs/pagerank/lib/python3.12/site-packages/tqdm/auto.py:21: TqdmWarning: IProgress not found. Please update jupyter and ipywidgets. See https://ipywidgets.readthedocs.io/en/stable/user_install.html\n",
      "  from .autonotebook import tqdm as notebook_tqdm\n"
     ]
    }
   ],
   "source": [
    "from sentence_transformers import SentenceTransformer\n",
    "import torch\n",
    "import numpy as np\n",
    "import pandas as pd"
   ]
  },
  {
   "cell_type": "markdown",
   "id": "a2f3f2f0",
   "metadata": {},
   "source": [
    "Check if cuda is avaible for GPU acceleration"
   ]
  },
  {
   "cell_type": "code",
   "execution_count": 2,
   "id": "8c7f2e6b",
   "metadata": {},
   "outputs": [
    {
     "data": {
      "text/plain": [
       "True"
      ]
     },
     "execution_count": 2,
     "metadata": {},
     "output_type": "execute_result"
    }
   ],
   "source": [
    "torch.cuda.is_available()  "
   ]
  },
  {
   "cell_type": "markdown",
   "id": "2c110200",
   "metadata": {},
   "source": [
    "We extract all the titles and node_id from the csv file obtained with PageRank.py"
   ]
  },
  {
   "cell_type": "code",
   "execution_count": 3,
   "id": "21049508",
   "metadata": {},
   "outputs": [
    {
     "data": {
      "application/vnd.microsoft.datawrangler.viewer.v0+json": {
       "columns": [
        {
         "name": "index",
         "rawType": "int64",
         "type": "integer"
        },
        {
         "name": "node_id",
         "rawType": "int64",
         "type": "integer"
        },
        {
         "name": "page_name",
         "rawType": "object",
         "type": "string"
        },
        {
         "name": "pagerank_score",
         "rawType": "float64",
         "type": "float"
        }
       ],
       "ref": "8b73e975-4dce-49ff-b24e-8b8e59813ef1",
       "rows": [
        [
         "351507",
         "0",
         "Chiasmal syndrome",
         "3.4e-07"
        ],
        [
         "323596",
         "1",
         "Kleroterion",
         "3.7e-07"
        ],
        [
         "653050",
         "2",
         "Pinakion",
         "1.9e-07"
        ],
        [
         "1341340",
         "3",
         "LyndonHochschildSerre spectral sequence",
         "1e-07"
        ],
        [
         "873932",
         "4",
         "Zariski's main theorem",
         "1.5e-07"
        ]
       ],
       "shape": {
        "columns": 3,
        "rows": 5
       }
      },
      "text/html": [
       "<div>\n",
       "<style scoped>\n",
       "    .dataframe tbody tr th:only-of-type {\n",
       "        vertical-align: middle;\n",
       "    }\n",
       "\n",
       "    .dataframe tbody tr th {\n",
       "        vertical-align: top;\n",
       "    }\n",
       "\n",
       "    .dataframe thead th {\n",
       "        text-align: right;\n",
       "    }\n",
       "</style>\n",
       "<table border=\"1\" class=\"dataframe\">\n",
       "  <thead>\n",
       "    <tr style=\"text-align: right;\">\n",
       "      <th></th>\n",
       "      <th>node_id</th>\n",
       "      <th>page_name</th>\n",
       "      <th>pagerank_score</th>\n",
       "    </tr>\n",
       "  </thead>\n",
       "  <tbody>\n",
       "    <tr>\n",
       "      <th>351507</th>\n",
       "      <td>0</td>\n",
       "      <td>Chiasmal syndrome</td>\n",
       "      <td>3.400000e-07</td>\n",
       "    </tr>\n",
       "    <tr>\n",
       "      <th>323596</th>\n",
       "      <td>1</td>\n",
       "      <td>Kleroterion</td>\n",
       "      <td>3.700000e-07</td>\n",
       "    </tr>\n",
       "    <tr>\n",
       "      <th>653050</th>\n",
       "      <td>2</td>\n",
       "      <td>Pinakion</td>\n",
       "      <td>1.900000e-07</td>\n",
       "    </tr>\n",
       "    <tr>\n",
       "      <th>1341340</th>\n",
       "      <td>3</td>\n",
       "      <td>LyndonHochschildSerre spectral sequence</td>\n",
       "      <td>1.000000e-07</td>\n",
       "    </tr>\n",
       "    <tr>\n",
       "      <th>873932</th>\n",
       "      <td>4</td>\n",
       "      <td>Zariski's main theorem</td>\n",
       "      <td>1.500000e-07</td>\n",
       "    </tr>\n",
       "  </tbody>\n",
       "</table>\n",
       "</div>"
      ],
      "text/plain": [
       "         node_id                                page_name  pagerank_score\n",
       "351507         0                        Chiasmal syndrome    3.400000e-07\n",
       "323596         1                              Kleroterion    3.700000e-07\n",
       "653050         2                                 Pinakion    1.900000e-07\n",
       "1341340        3  LyndonHochschildSerre spectral sequence    1.000000e-07\n",
       "873932         4                   Zariski's main theorem    1.500000e-07"
      ]
     },
     "execution_count": 3,
     "metadata": {},
     "output_type": "execute_result"
    }
   ],
   "source": [
    "results_ds = pd.read_csv(\"results/wiki_pagerank_RNA_results.csv\")\n",
    "results_ds.sort_values(by=\"node_id\", inplace=True)\n",
    "results_ds.head()"
   ]
  },
  {
   "cell_type": "code",
   "execution_count": 4,
   "id": "543af33e",
   "metadata": {},
   "outputs": [],
   "source": [
    "page_names = results_ds[\"page_name\"].tolist()"
   ]
  },
  {
   "cell_type": "code",
   "execution_count": 5,
   "id": "510cfcd9",
   "metadata": {},
   "outputs": [
    {
     "data": {
      "text/plain": [
       "1791489"
      ]
     },
     "execution_count": 5,
     "metadata": {},
     "output_type": "execute_result"
    }
   ],
   "source": [
    "len(page_names)"
   ]
  },
  {
   "cell_type": "code",
   "execution_count": 6,
   "id": "49abf2a0",
   "metadata": {},
   "outputs": [
    {
     "data": {
      "text/plain": [
       "['Chiasmal syndrome',\n",
       " 'Kleroterion',\n",
       " 'Pinakion',\n",
       " 'LyndonHochschildSerre spectral sequence',\n",
       " \"Zariski's main theorem\",\n",
       " 'FultonHansen connectedness theorem',\n",
       " \"Cayley's ruled cubic surface\",\n",
       " 'Annulus theorem',\n",
       " \"Bing's recognition theorem\",\n",
       " 'BochnerMartinelli formula']"
      ]
     },
     "execution_count": 6,
     "metadata": {},
     "output_type": "execute_result"
    }
   ],
   "source": [
    "page_names[:10]"
   ]
  },
  {
   "cell_type": "code",
   "execution_count": null,
   "id": "52b73fa5",
   "metadata": {},
   "outputs": [],
   "source": []
  },
  {
   "cell_type": "markdown",
   "id": "5f5ceda9",
   "metadata": {},
   "source": [
    "To calculate embeddings we use \"all-MiniLM-L6-v2\", check the HuggingFace page [here](https://huggingface.co/sentence-transformers/all-MiniLM-L6-v2). The embeddings are stored in data/embeddings.npy file."
   ]
  },
  {
   "cell_type": "code",
   "execution_count": null,
   "id": "9df8743f",
   "metadata": {},
   "outputs": [
    {
     "name": "stderr",
     "output_type": "stream",
     "text": [
      "Batches: 100%|██████████| 27993/27993 [03:20<00:00, 139.94it/s]\n"
     ]
    }
   ],
   "source": [
    "model2 = SentenceTransformer('sentence-transformers/all-MiniLM-L6-v2')\n",
    "embeddings = model2.encode(page_names, show_progress_bar=True, device=\"cuda:0\", batch_size=64)  # Change device to \"cpu\" if you don't have a GPU\n",
    "np.save(\"data/embeddings.npy\", embeddings)\n"
   ]
  },
  {
   "cell_type": "code",
   "execution_count": null,
   "id": "84e32c3d",
   "metadata": {},
   "outputs": [],
   "source": [
    "\n",
    "embeddings = np.load(\"data/embeddings.npy\")\n",
    "embeddings = torch.tensor(embeddings)"
   ]
  },
  {
   "cell_type": "markdown",
   "id": "8bc65dc6",
   "metadata": {},
   "source": [
    "Let's try the embeddings by checking similarity scores. "
   ]
  },
  {
   "cell_type": "markdown",
   "id": "2465fe02",
   "metadata": {},
   "source": [
    "First we write a query string and we calculate the query embedding. Then we calculate the cosine similarity with all the computed title embeddings."
   ]
  },
  {
   "cell_type": "code",
   "execution_count": 9,
   "id": "390d7dde",
   "metadata": {},
   "outputs": [],
   "source": [
    "query = \"University\"\n",
    "query_embedding = model2.encode(query, device=\"cuda:0\")\n",
    "similarities = model2.similarity(query_embedding, embeddings)\n",
    "\n"
   ]
  },
  {
   "cell_type": "code",
   "execution_count": 10,
   "id": "9b632ed4",
   "metadata": {},
   "outputs": [],
   "source": [
    "sorted_indices = similarities[0].argsort(descending=True)"
   ]
  },
  {
   "cell_type": "code",
   "execution_count": 11,
   "id": "8e63187f",
   "metadata": {},
   "outputs": [
    {
     "name": "stdout",
     "output_type": "stream",
     "text": [
      "University: 1.0000\n",
      "University School: 0.9277\n",
      "University College School: 0.8865\n",
      "Campus university: 0.8792\n",
      "Collegiate university: 0.8537\n",
      "College: 0.8203\n",
      "Corporate university: 0.8139\n",
      "American University: 0.8132\n",
      "Universities UK: 0.7995\n",
      "University Link: 0.7993\n"
     ]
    }
   ],
   "source": [
    "for i in sorted_indices[:10]:\n",
    "    print(f\"{page_names[i]}: {similarities[0][i]:.4f}\")"
   ]
  },
  {
   "cell_type": "markdown",
   "id": "5b4c22a1",
   "metadata": {},
   "source": [
    "Now we combine the similarity score with the PageRank score"
   ]
  },
  {
   "cell_type": "code",
   "execution_count": 12,
   "id": "bfc3a08b",
   "metadata": {},
   "outputs": [],
   "source": [
    "pagerank_scores = results_ds[\"pagerank_score\"].tolist()\n",
    "pagerank_scores = torch.tensor(pagerank_scores)\n",
    "np.save(\"data/pagerank_scores.npy\", pagerank_scores.numpy())"
   ]
  },
  {
   "cell_type": "code",
   "execution_count": 13,
   "id": "1eb88dfc",
   "metadata": {},
   "outputs": [
    {
     "name": "stdout",
     "output_type": "stream",
     "text": [
      "University: 1.0000\n",
      "University School: 0.9277\n",
      "University College School: 0.8865\n",
      "Campus university: 0.8792\n",
      "Collegiate university: 0.8537\n",
      "College: 0.8203\n",
      "Corporate university: 0.8139\n",
      "American University: 0.8132\n",
      "Universities UK: 0.7995\n",
      "University Link: 0.7993\n"
     ]
    }
   ],
   "source": [
    "p_w = 0 #weight of the pagerank score\n",
    "p_e = 1 #weight of the embedding similarity\n",
    "\n",
    "final_scores = p_w * pagerank_scores + p_e * similarities[0]\n",
    "sorted_final_indices = final_scores.argsort(descending=True)\n",
    "for i in sorted_final_indices[:10]:\n",
    "    print(f\"{page_names[i]}: {final_scores[i]:.4f}\")\n",
    "\n"
   ]
  },
  {
   "cell_type": "markdown",
   "id": "47adff95",
   "metadata": {},
   "source": [
    "Since we also want to get the categories for each page, let's extract them"
   ]
  },
  {
   "cell_type": "code",
   "execution_count": 14,
   "id": "bd2598f0",
   "metadata": {},
   "outputs": [],
   "source": [
    "categories = {}\n",
    "node_categories = {}\n",
    "with open(\"data/wiki-topcats-categories.txt\", \"r\") as f:\n",
    "    for line in f:\n",
    "                line = line.strip()\n",
    "                if line:\n",
    "                    parts = line.split(';')\n",
    "                    if len(parts) >= 2:\n",
    "                        category = parts[0].strip()\n",
    "                        #Remove the \"Category:\" prefix if it exists\n",
    "                        if category.startswith(\"Category:\"):\n",
    "                            category = category[len(\"Category:\"):].strip()\n",
    "                            \n",
    "                        node_ids = [int(x) for x in parts[1].split()]\n",
    "                        categories[category] = node_ids\n",
    "                        \n",
    "                        # Build reverse mapping\n",
    "                        for node_id in node_ids:\n",
    "                            if int(node_id) not in node_categories:\n",
    "                                node_categories[int(node_id)] = []\n",
    "                            node_categories[int(node_id)].append(category)"
   ]
  },
  {
   "cell_type": "code",
   "execution_count": 16,
   "id": "0c1bad4c",
   "metadata": {},
   "outputs": [
    {
     "name": "stdout",
     "output_type": "stream",
     "text": [
      "['Youth'] University 0.9999999403953552\n",
      "['Private_schools_in_Ohio'] University School 0.9276874661445618\n",
      "['Old_Gowers', \"Member_schools_of_the_Headmasters'_and_Headmistresses'_Conference\"] University College School 0.8864802122116089\n",
      "['School_types'] Campus university 0.8791838884353638\n",
      "['School_types'] Collegiate university 0.8537181615829468\n",
      "['Youth', 'School_types'] College 0.8203128576278687\n",
      "['Alternative_education'] Corporate university 0.8138669729232788\n",
      "['Article_Feedback_Pilot', 'National_Association_of_Independent_Colleges_and_Universities_members', 'Middle_States_Association_of_Colleges_and_Schools'] American University 0.8132139444351196\n",
      "['University_associations_and_consortia'] Universities UK 0.7994534969329834\n",
      "['Proposed_public_transportation_in_the_United_States'] University Link 0.7992901802062988\n"
     ]
    }
   ],
   "source": [
    "for i in sorted_final_indices[:10]:\n",
    "    print(node_categories.get(i.item(), []), page_names[i], final_scores[i].item())"
   ]
  }
 ],
 "metadata": {
  "kernelspec": {
   "display_name": "pagerank",
   "language": "python",
   "name": "python3"
  },
  "language_info": {
   "codemirror_mode": {
    "name": "ipython",
    "version": 3
   },
   "file_extension": ".py",
   "mimetype": "text/x-python",
   "name": "python",
   "nbconvert_exporter": "python",
   "pygments_lexer": "ipython3",
   "version": "3.12.11"
  }
 },
 "nbformat": 4,
 "nbformat_minor": 5
}
